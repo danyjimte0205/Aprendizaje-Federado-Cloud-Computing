{
 "cells": [
  {
   "cell_type": "markdown",
   "id": "477f76fc",
   "metadata": {},
   "source": [
    "# Entrenamiento local para el integrante *n*\n",
    "\n",
    "---"
   ]
  },
  {
   "cell_type": "markdown",
   "id": "9d10b3c2",
   "metadata": {},
   "source": [
    "### Importación de librerías"
   ]
  },
  {
   "cell_type": "code",
   "execution_count": null,
   "id": "87f0cd82",
   "metadata": {},
   "outputs": [],
   "source": [
    "import numpy as np\n",
    "from tqdm import tqdm\n",
    "import matplotlib.pyplot as plt\n",
    "from TheModel import build\n",
    "from sklearn.metrics import classification_report"
   ]
  },
  {
   "cell_type": "markdown",
   "id": "8cfa0083",
   "metadata": {},
   "source": [
    "### Importación de datos"
   ]
  },
  {
   "cell_type": "code",
   "execution_count": null,
   "id": "2fb56d32",
   "metadata": {},
   "outputs": [],
   "source": [
    "user_id = 0 # Cambiar por tu número de integrante\n",
    "\n",
    "x_train = np.load(f\"user_{user_id}_x.npy\")\n",
    "y_train = np.load(f\"user_{user_id}_y.npy\")\n",
    "\n",
    "x_test = np.load(\"x_test.npy\")\n",
    "y_test = np.load(\"y_test.npy\")"
   ]
  },
  {
   "cell_type": "markdown",
   "id": "551cb8c3",
   "metadata": {},
   "source": [
    "### Entrenamiento del modelo en TheModel.py"
   ]
  },
  {
   "cell_type": "code",
   "execution_count": null,
   "id": "37d384fd",
   "metadata": {},
   "outputs": [],
   "source": [
    "# Función de entrenamiento general\n",
    "def train_and_verify(local_model, local_data, epochs, x_test, y_test, save_name):\n",
    "    print(local_model)\n",
    "\n",
    "    history = local_model.fit(local_data[0], local_data[1], epochs = epochs, validation_data = (x_test, y_test))\n",
    "    y_pred = local_model.predict(x_test)\n",
    "    y_pred_classes = np.argmax(y_pred, axis = 1)\n",
    "    print(classification_report(y_test, y_pred_classes))\n",
    "\n",
    "    plt.plot(history.history['accuracy'], label = 'Training accuracy')\n",
    "    plt.plot(history.history['val_accuracy'], label = 'Validation accuracy')\n",
    "    plt.xlabel('Epochs')\n",
    "    plt.ylabel('Accuracy')\n",
    "    plt.legend()\n",
    "    plt.title(f\"Integrante {user_id}\")\n",
    "    plt.show()\n",
    "\n",
    "    local_model.save(save_name)"
   ]
  },
  {
   "cell_type": "code",
   "execution_count": null,
   "id": "7490af39",
   "metadata": {},
   "outputs": [],
   "source": [
    "# Entrenamiento local\n",
    "for _ in tqdm(range(1), desc = f\"Entrenando modelo local del integrante {user_id}\"):\n",
    "    local_model = build.create_model()\n",
    "    train_and_verify(local_model, (x_train, y_train), epochs, x_test, y_test, f\"lmodel_{user_id}.keras\")"
   ]
  }
 ],
 "metadata": {
  "kernelspec": {
   "display_name": "base",
   "language": "python",
   "name": "python3"
  },
  "language_info": {
   "codemirror_mode": {
    "name": "ipython",
    "version": 3
   },
   "file_extension": ".py",
   "mimetype": "text/x-python",
   "name": "python",
   "nbconvert_exporter": "python",
   "pygments_lexer": "ipython3",
   "version": "3.11.5"
  }
 },
 "nbformat": 4,
 "nbformat_minor": 5
}
